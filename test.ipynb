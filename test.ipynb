{
 "cells": [
  {
   "cell_type": "code",
   "execution_count": 7,
   "metadata": {},
   "outputs": [],
   "source": [
    "from model_utils.encode_process_decode import LazyMLP\n",
    "from model_utils.HyperEl import Model\n",
    "import torch\n",
    "device = torch.device('cuda')"
   ]
  },
  {
   "cell_type": "code",
   "execution_count": 8,
   "metadata": {},
   "outputs": [
    {
     "name": "stdout",
     "output_type": "stream",
     "text": [
      "Model(\n",
      "  (_output_normalizer): Normalizer()\n",
      "  (_mesh_edge_normalizer): Normalizer()\n",
      "  (_world_edge_normalizer): Normalizer()\n",
      "  (learned_model): EncodeProcessDecode(\n",
      "    (encoder): Encoder(\n",
      "      (node_model): Sequential(\n",
      "        (0): LazyMLP(\n",
      "          (layers): Sequential(\n",
      "            (linear_0): LazyLinear(in_features=0, out_features=128, bias=True)\n",
      "            (relu_0): Sigmoid()\n",
      "            (linear_1): LazyLinear(in_features=0, out_features=128, bias=True)\n",
      "            (relu_1): Sigmoid()\n",
      "            (linear_2): LazyLinear(in_features=0, out_features=128, bias=True)\n",
      "          )\n",
      "        )\n",
      "        (1): LayerNorm((128,), eps=1e-05, elementwise_affine=True)\n",
      "      )\n",
      "      (mesh_edge_model): Sequential(\n",
      "        (0): LazyMLP(\n",
      "          (layers): Sequential(\n",
      "            (linear_0): LazyLinear(in_features=0, out_features=128, bias=True)\n",
      "            (relu_0): Sigmoid()\n",
      "            (linear_1): LazyLinear(in_features=0, out_features=128, bias=True)\n",
      "            (relu_1): Sigmoid()\n",
      "            (linear_2): LazyLinear(in_features=0, out_features=128, bias=True)\n",
      "          )\n",
      "        )\n",
      "        (1): LayerNorm((128,), eps=1e-05, elementwise_affine=True)\n",
      "      )\n",
      "      (world_edge_model): Sequential(\n",
      "        (0): LazyMLP(\n",
      "          (layers): Sequential(\n",
      "            (linear_0): LazyLinear(in_features=0, out_features=128, bias=True)\n",
      "            (relu_0): Sigmoid()\n",
      "            (linear_1): LazyLinear(in_features=0, out_features=128, bias=True)\n",
      "            (relu_1): Sigmoid()\n",
      "            (linear_2): LazyLinear(in_features=0, out_features=128, bias=True)\n",
      "          )\n",
      "        )\n",
      "        (1): LayerNorm((128,), eps=1e-05, elementwise_affine=True)\n",
      "      )\n",
      "    )\n",
      "    (processor): Processor(\n",
      "      (graphnet_blocks): ModuleList(\n",
      "        (0-14): 15 x GraphNetBlock(\n",
      "          (mesh_edge_model): Sequential(\n",
      "            (0): LazyMLP(\n",
      "              (layers): Sequential(\n",
      "                (linear_0): LazyLinear(in_features=0, out_features=128, bias=True)\n",
      "                (relu_0): Sigmoid()\n",
      "                (linear_1): LazyLinear(in_features=0, out_features=128, bias=True)\n",
      "                (relu_1): Sigmoid()\n",
      "                (linear_2): LazyLinear(in_features=0, out_features=128, bias=True)\n",
      "              )\n",
      "            )\n",
      "            (1): LayerNorm((128,), eps=1e-05, elementwise_affine=True)\n",
      "          )\n",
      "          (world_edge_model): Sequential(\n",
      "            (0): LazyMLP(\n",
      "              (layers): Sequential(\n",
      "                (linear_0): LazyLinear(in_features=0, out_features=128, bias=True)\n",
      "                (relu_0): Sigmoid()\n",
      "                (linear_1): LazyLinear(in_features=0, out_features=128, bias=True)\n",
      "                (relu_1): Sigmoid()\n",
      "                (linear_2): LazyLinear(in_features=0, out_features=128, bias=True)\n",
      "              )\n",
      "            )\n",
      "            (1): LayerNorm((128,), eps=1e-05, elementwise_affine=True)\n",
      "          )\n",
      "          (node_model): Sequential(\n",
      "            (0): LazyMLP(\n",
      "              (layers): Sequential(\n",
      "                (linear_0): LazyLinear(in_features=0, out_features=128, bias=True)\n",
      "                (relu_0): Sigmoid()\n",
      "                (linear_1): LazyLinear(in_features=0, out_features=128, bias=True)\n",
      "                (relu_1): Sigmoid()\n",
      "                (linear_2): LazyLinear(in_features=0, out_features=128, bias=True)\n",
      "              )\n",
      "            )\n",
      "            (1): LayerNorm((128,), eps=1e-05, elementwise_affine=True)\n",
      "          )\n",
      "          (linear_layer): LazyLinear(in_features=0, out_features=1, bias=True)\n",
      "          (leaky_relu): LeakyReLU(negative_slope=0.2)\n",
      "        )\n",
      "      )\n",
      "    )\n",
      "    (decoder): Decoder(\n",
      "      (model): LazyMLP(\n",
      "        (layers): Sequential(\n",
      "          (linear_0): LazyLinear(in_features=0, out_features=128, bias=True)\n",
      "          (relu_0): Sigmoid()\n",
      "          (linear_1): LazyLinear(in_features=0, out_features=128, bias=True)\n",
      "          (relu_1): Sigmoid()\n",
      "          (linear_2): LazyLinear(in_features=0, out_features=2, bias=True)\n",
      "        )\n",
      "      )\n",
      "    )\n",
      "  )\n",
      ")\n"
     ]
    },
    {
     "name": "stderr",
     "output_type": "stream",
     "text": [
      "c:\\deeplearning\\envs\\gnn\\lib\\site-packages\\torch\\nn\\modules\\lazy.py:180: UserWarning: Lazy modules are a new feature under heavy development so changes to the API or functionality can happen at any moment.\n",
      "  warnings.warn('Lazy modules are a new feature under heavy development '\n"
     ]
    }
   ],
   "source": [
    "n = Model(2)\n",
    "\n",
    "print(n)"
   ]
  },
  {
   "cell_type": "code",
   "execution_count": 5,
   "metadata": {},
   "outputs": [
    {
     "name": "stdout",
     "output_type": "stream",
     "text": [
      "tensor([0.])\n"
     ]
    }
   ],
   "source": [
    "from model_utils import normalization\n",
    "from model_utils import Cloth\n",
    "\n",
    "n = Cloth.Model(3)\n",
    "# n = normalization.Normalizer(3,'n')\n",
    "n.to('cpu')\n",
    "print(n._mesh_edge_normalizer._acc_count)\n",
    "\n"
   ]
  },
  {
   "cell_type": "code",
   "execution_count": 3,
   "metadata": {},
   "outputs": [
    {
     "name": "stdout",
     "output_type": "stream",
     "text": [
      "['a', 'b']\n"
     ]
    }
   ],
   "source": [
    "d = {\n",
    "    \"a\":1,\n",
    "    \"b\":2\n",
    "}\n",
    "print(list(d.keys()))"
   ]
  }
 ],
 "metadata": {
  "kernelspec": {
   "display_name": "gnn",
   "language": "python",
   "name": "python3"
  },
  "language_info": {
   "codemirror_mode": {
    "name": "ipython",
    "version": 3
   },
   "file_extension": ".py",
   "mimetype": "text/x-python",
   "name": "python",
   "nbconvert_exporter": "python",
   "pygments_lexer": "ipython3",
   "version": "3.10.15"
  }
 },
 "nbformat": 4,
 "nbformat_minor": 2
}
